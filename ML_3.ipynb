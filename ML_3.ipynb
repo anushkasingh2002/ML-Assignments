{
  "nbformat": 4,
  "nbformat_minor": 0,
  "metadata": {
    "colab": {
      "provenance": []
    },
    "kernelspec": {
      "name": "python3",
      "display_name": "Python 3"
    },
    "language_info": {
      "name": "python"
    }
  },
  "cells": [
    {
      "cell_type": "code",
      "source": [
        "!pip install tf_keras"
      ],
      "metadata": {
        "colab": {
          "base_uri": "https://localhost:8080/"
        },
        "id": "r_cWMabnRJ88",
        "outputId": "f579790f-c0ec-4af3-b237-1bb34ccfba37"
      },
      "execution_count": 181,
      "outputs": [
        {
          "output_type": "stream",
          "name": "stdout",
          "text": [
            "Requirement already satisfied: tf_keras in /usr/local/lib/python3.10/dist-packages (2.15.0)\n"
          ]
        }
      ]
    },
    {
      "cell_type": "code",
      "source": [
        "# import TensorFlow\n",
        "import tensorflow as tf\n",
        "\n",
        "#Check the version of TensorFlow you are using\n",
        "print(tf.__version__)\n"
      ],
      "metadata": {
        "colab": {
          "base_uri": "https://localhost:8080/"
        },
        "id": "MIJ4vuMW3fqO",
        "outputId": "01cba17c-1ffb-4c64-c98c-7e93d319dbec"
      },
      "execution_count": 182,
      "outputs": [
        {
          "output_type": "stream",
          "name": "stdout",
          "text": [
            "2.15.0\n"
          ]
        }
      ]
    },
    {
      "cell_type": "code",
      "execution_count": 183,
      "metadata": {
        "id": "JL4blI2B63Fg"
      },
      "outputs": [],
      "source": [
        "import os\n",
        "# Keep using Keras 2\n",
        "os.environ['TF_USE_LEGACY_KERAS'] = '1'\n",
        "\n",
        "\n",
        "import numpy as np\n",
        "import pandas as pd\n",
        "import tensorflow as tf\n",
        "import tf_keras\n",
        "import math\n",
        "import matplotlib.pyplot as plt\n",
        "import sklearn\n",
        "from sklearn.preprocessing import StandardScaler\n"
      ]
    },
    {
      "cell_type": "code",
      "source": [
        "df = pd.read_csv(\"/content/Admission_Predict_A3.csv\")"
      ],
      "metadata": {
        "id": "7BU4HDqE8GIA"
      },
      "execution_count": 235,
      "outputs": []
    },
    {
      "cell_type": "code",
      "source": [
        "df.head()"
      ],
      "metadata": {
        "colab": {
          "base_uri": "https://localhost:8080/",
          "height": 204
        },
        "id": "n0kxeLP1EGCo",
        "outputId": "215b6ade-eeff-4ee0-fc1f-139549f30ded"
      },
      "execution_count": 239,
      "outputs": [
        {
          "output_type": "execute_result",
          "data": {
            "text/plain": [
              "   Serial No.  GRE Score  TOEFL Score  University Rating  SOP  LOR   CGPA  \\\n",
              "0           1        337          118                  4  4.5   4.5  9.65   \n",
              "1           2        324          107                  4  4.0   4.5  8.87   \n",
              "2           3        316          104                  3  3.0   3.5  8.00   \n",
              "3           4        322          110                  3  3.5   2.5  8.67   \n",
              "4           5        314          103                  2  2.0   3.0  8.21   \n",
              "\n",
              "   Research  Chance of Admit   \n",
              "0         1              0.92  \n",
              "1         1              0.76  \n",
              "2         1              0.72  \n",
              "3         1              0.80  \n",
              "4         0              0.65  "
            ],
            "text/html": [
              "\n",
              "  <div id=\"df-a3f6d640-1a49-4d8b-9003-628427d12a7a\" class=\"colab-df-container\">\n",
              "    <div>\n",
              "<style scoped>\n",
              "    .dataframe tbody tr th:only-of-type {\n",
              "        vertical-align: middle;\n",
              "    }\n",
              "\n",
              "    .dataframe tbody tr th {\n",
              "        vertical-align: top;\n",
              "    }\n",
              "\n",
              "    .dataframe thead th {\n",
              "        text-align: right;\n",
              "    }\n",
              "</style>\n",
              "<table border=\"1\" class=\"dataframe\">\n",
              "  <thead>\n",
              "    <tr style=\"text-align: right;\">\n",
              "      <th></th>\n",
              "      <th>Serial No.</th>\n",
              "      <th>GRE Score</th>\n",
              "      <th>TOEFL Score</th>\n",
              "      <th>University Rating</th>\n",
              "      <th>SOP</th>\n",
              "      <th>LOR</th>\n",
              "      <th>CGPA</th>\n",
              "      <th>Research</th>\n",
              "      <th>Chance of Admit</th>\n",
              "    </tr>\n",
              "  </thead>\n",
              "  <tbody>\n",
              "    <tr>\n",
              "      <th>0</th>\n",
              "      <td>1</td>\n",
              "      <td>337</td>\n",
              "      <td>118</td>\n",
              "      <td>4</td>\n",
              "      <td>4.5</td>\n",
              "      <td>4.5</td>\n",
              "      <td>9.65</td>\n",
              "      <td>1</td>\n",
              "      <td>0.92</td>\n",
              "    </tr>\n",
              "    <tr>\n",
              "      <th>1</th>\n",
              "      <td>2</td>\n",
              "      <td>324</td>\n",
              "      <td>107</td>\n",
              "      <td>4</td>\n",
              "      <td>4.0</td>\n",
              "      <td>4.5</td>\n",
              "      <td>8.87</td>\n",
              "      <td>1</td>\n",
              "      <td>0.76</td>\n",
              "    </tr>\n",
              "    <tr>\n",
              "      <th>2</th>\n",
              "      <td>3</td>\n",
              "      <td>316</td>\n",
              "      <td>104</td>\n",
              "      <td>3</td>\n",
              "      <td>3.0</td>\n",
              "      <td>3.5</td>\n",
              "      <td>8.00</td>\n",
              "      <td>1</td>\n",
              "      <td>0.72</td>\n",
              "    </tr>\n",
              "    <tr>\n",
              "      <th>3</th>\n",
              "      <td>4</td>\n",
              "      <td>322</td>\n",
              "      <td>110</td>\n",
              "      <td>3</td>\n",
              "      <td>3.5</td>\n",
              "      <td>2.5</td>\n",
              "      <td>8.67</td>\n",
              "      <td>1</td>\n",
              "      <td>0.80</td>\n",
              "    </tr>\n",
              "    <tr>\n",
              "      <th>4</th>\n",
              "      <td>5</td>\n",
              "      <td>314</td>\n",
              "      <td>103</td>\n",
              "      <td>2</td>\n",
              "      <td>2.0</td>\n",
              "      <td>3.0</td>\n",
              "      <td>8.21</td>\n",
              "      <td>0</td>\n",
              "      <td>0.65</td>\n",
              "    </tr>\n",
              "  </tbody>\n",
              "</table>\n",
              "</div>\n",
              "    <div class=\"colab-df-buttons\">\n",
              "\n",
              "  <div class=\"colab-df-container\">\n",
              "    <button class=\"colab-df-convert\" onclick=\"convertToInteractive('df-a3f6d640-1a49-4d8b-9003-628427d12a7a')\"\n",
              "            title=\"Convert this dataframe to an interactive table.\"\n",
              "            style=\"display:none;\">\n",
              "\n",
              "  <svg xmlns=\"http://www.w3.org/2000/svg\" height=\"24px\" viewBox=\"0 -960 960 960\">\n",
              "    <path d=\"M120-120v-720h720v720H120Zm60-500h600v-160H180v160Zm220 220h160v-160H400v160Zm0 220h160v-160H400v160ZM180-400h160v-160H180v160Zm440 0h160v-160H620v160ZM180-180h160v-160H180v160Zm440 0h160v-160H620v160Z\"/>\n",
              "  </svg>\n",
              "    </button>\n",
              "\n",
              "  <style>\n",
              "    .colab-df-container {\n",
              "      display:flex;\n",
              "      gap: 12px;\n",
              "    }\n",
              "\n",
              "    .colab-df-convert {\n",
              "      background-color: #E8F0FE;\n",
              "      border: none;\n",
              "      border-radius: 50%;\n",
              "      cursor: pointer;\n",
              "      display: none;\n",
              "      fill: #1967D2;\n",
              "      height: 32px;\n",
              "      padding: 0 0 0 0;\n",
              "      width: 32px;\n",
              "    }\n",
              "\n",
              "    .colab-df-convert:hover {\n",
              "      background-color: #E2EBFA;\n",
              "      box-shadow: 0px 1px 2px rgba(60, 64, 67, 0.3), 0px 1px 3px 1px rgba(60, 64, 67, 0.15);\n",
              "      fill: #174EA6;\n",
              "    }\n",
              "\n",
              "    .colab-df-buttons div {\n",
              "      margin-bottom: 4px;\n",
              "    }\n",
              "\n",
              "    [theme=dark] .colab-df-convert {\n",
              "      background-color: #3B4455;\n",
              "      fill: #D2E3FC;\n",
              "    }\n",
              "\n",
              "    [theme=dark] .colab-df-convert:hover {\n",
              "      background-color: #434B5C;\n",
              "      box-shadow: 0px 1px 3px 1px rgba(0, 0, 0, 0.15);\n",
              "      filter: drop-shadow(0px 1px 2px rgba(0, 0, 0, 0.3));\n",
              "      fill: #FFFFFF;\n",
              "    }\n",
              "  </style>\n",
              "\n",
              "    <script>\n",
              "      const buttonEl =\n",
              "        document.querySelector('#df-a3f6d640-1a49-4d8b-9003-628427d12a7a button.colab-df-convert');\n",
              "      buttonEl.style.display =\n",
              "        google.colab.kernel.accessAllowed ? 'block' : 'none';\n",
              "\n",
              "      async function convertToInteractive(key) {\n",
              "        const element = document.querySelector('#df-a3f6d640-1a49-4d8b-9003-628427d12a7a');\n",
              "        const dataTable =\n",
              "          await google.colab.kernel.invokeFunction('convertToInteractive',\n",
              "                                                    [key], {});\n",
              "        if (!dataTable) return;\n",
              "\n",
              "        const docLinkHtml = 'Like what you see? Visit the ' +\n",
              "          '<a target=\"_blank\" href=https://colab.research.google.com/notebooks/data_table.ipynb>data table notebook</a>'\n",
              "          + ' to learn more about interactive tables.';\n",
              "        element.innerHTML = '';\n",
              "        dataTable['output_type'] = 'display_data';\n",
              "        await google.colab.output.renderOutput(dataTable, element);\n",
              "        const docLink = document.createElement('div');\n",
              "        docLink.innerHTML = docLinkHtml;\n",
              "        element.appendChild(docLink);\n",
              "      }\n",
              "    </script>\n",
              "  </div>\n",
              "\n",
              "\n",
              "<div id=\"df-65a7be04-6793-4448-90b8-b024c8dde059\">\n",
              "  <button class=\"colab-df-quickchart\" onclick=\"quickchart('df-65a7be04-6793-4448-90b8-b024c8dde059')\"\n",
              "            title=\"Suggest charts\"\n",
              "            style=\"display:none;\">\n",
              "\n",
              "<svg xmlns=\"http://www.w3.org/2000/svg\" height=\"24px\"viewBox=\"0 0 24 24\"\n",
              "     width=\"24px\">\n",
              "    <g>\n",
              "        <path d=\"M19 3H5c-1.1 0-2 .9-2 2v14c0 1.1.9 2 2 2h14c1.1 0 2-.9 2-2V5c0-1.1-.9-2-2-2zM9 17H7v-7h2v7zm4 0h-2V7h2v10zm4 0h-2v-4h2v4z\"/>\n",
              "    </g>\n",
              "</svg>\n",
              "  </button>\n",
              "\n",
              "<style>\n",
              "  .colab-df-quickchart {\n",
              "      --bg-color: #E8F0FE;\n",
              "      --fill-color: #1967D2;\n",
              "      --hover-bg-color: #E2EBFA;\n",
              "      --hover-fill-color: #174EA6;\n",
              "      --disabled-fill-color: #AAA;\n",
              "      --disabled-bg-color: #DDD;\n",
              "  }\n",
              "\n",
              "  [theme=dark] .colab-df-quickchart {\n",
              "      --bg-color: #3B4455;\n",
              "      --fill-color: #D2E3FC;\n",
              "      --hover-bg-color: #434B5C;\n",
              "      --hover-fill-color: #FFFFFF;\n",
              "      --disabled-bg-color: #3B4455;\n",
              "      --disabled-fill-color: #666;\n",
              "  }\n",
              "\n",
              "  .colab-df-quickchart {\n",
              "    background-color: var(--bg-color);\n",
              "    border: none;\n",
              "    border-radius: 50%;\n",
              "    cursor: pointer;\n",
              "    display: none;\n",
              "    fill: var(--fill-color);\n",
              "    height: 32px;\n",
              "    padding: 0;\n",
              "    width: 32px;\n",
              "  }\n",
              "\n",
              "  .colab-df-quickchart:hover {\n",
              "    background-color: var(--hover-bg-color);\n",
              "    box-shadow: 0 1px 2px rgba(60, 64, 67, 0.3), 0 1px 3px 1px rgba(60, 64, 67, 0.15);\n",
              "    fill: var(--button-hover-fill-color);\n",
              "  }\n",
              "\n",
              "  .colab-df-quickchart-complete:disabled,\n",
              "  .colab-df-quickchart-complete:disabled:hover {\n",
              "    background-color: var(--disabled-bg-color);\n",
              "    fill: var(--disabled-fill-color);\n",
              "    box-shadow: none;\n",
              "  }\n",
              "\n",
              "  .colab-df-spinner {\n",
              "    border: 2px solid var(--fill-color);\n",
              "    border-color: transparent;\n",
              "    border-bottom-color: var(--fill-color);\n",
              "    animation:\n",
              "      spin 1s steps(1) infinite;\n",
              "  }\n",
              "\n",
              "  @keyframes spin {\n",
              "    0% {\n",
              "      border-color: transparent;\n",
              "      border-bottom-color: var(--fill-color);\n",
              "      border-left-color: var(--fill-color);\n",
              "    }\n",
              "    20% {\n",
              "      border-color: transparent;\n",
              "      border-left-color: var(--fill-color);\n",
              "      border-top-color: var(--fill-color);\n",
              "    }\n",
              "    30% {\n",
              "      border-color: transparent;\n",
              "      border-left-color: var(--fill-color);\n",
              "      border-top-color: var(--fill-color);\n",
              "      border-right-color: var(--fill-color);\n",
              "    }\n",
              "    40% {\n",
              "      border-color: transparent;\n",
              "      border-right-color: var(--fill-color);\n",
              "      border-top-color: var(--fill-color);\n",
              "    }\n",
              "    60% {\n",
              "      border-color: transparent;\n",
              "      border-right-color: var(--fill-color);\n",
              "    }\n",
              "    80% {\n",
              "      border-color: transparent;\n",
              "      border-right-color: var(--fill-color);\n",
              "      border-bottom-color: var(--fill-color);\n",
              "    }\n",
              "    90% {\n",
              "      border-color: transparent;\n",
              "      border-bottom-color: var(--fill-color);\n",
              "    }\n",
              "  }\n",
              "</style>\n",
              "\n",
              "  <script>\n",
              "    async function quickchart(key) {\n",
              "      const quickchartButtonEl =\n",
              "        document.querySelector('#' + key + ' button');\n",
              "      quickchartButtonEl.disabled = true;  // To prevent multiple clicks.\n",
              "      quickchartButtonEl.classList.add('colab-df-spinner');\n",
              "      try {\n",
              "        const charts = await google.colab.kernel.invokeFunction(\n",
              "            'suggestCharts', [key], {});\n",
              "      } catch (error) {\n",
              "        console.error('Error during call to suggestCharts:', error);\n",
              "      }\n",
              "      quickchartButtonEl.classList.remove('colab-df-spinner');\n",
              "      quickchartButtonEl.classList.add('colab-df-quickchart-complete');\n",
              "    }\n",
              "    (() => {\n",
              "      let quickchartButtonEl =\n",
              "        document.querySelector('#df-65a7be04-6793-4448-90b8-b024c8dde059 button');\n",
              "      quickchartButtonEl.style.display =\n",
              "        google.colab.kernel.accessAllowed ? 'block' : 'none';\n",
              "    })();\n",
              "  </script>\n",
              "</div>\n",
              "    </div>\n",
              "  </div>\n"
            ],
            "application/vnd.google.colaboratory.intrinsic+json": {
              "type": "dataframe",
              "variable_name": "df",
              "summary": "{\n  \"name\": \"df\",\n  \"rows\": 500,\n  \"fields\": [\n    {\n      \"column\": \"Serial No.\",\n      \"properties\": {\n        \"dtype\": \"number\",\n        \"std\": 144,\n        \"min\": 1,\n        \"max\": 500,\n        \"num_unique_values\": 500,\n        \"samples\": [\n          362,\n          74,\n          375\n        ],\n        \"semantic_type\": \"\",\n        \"description\": \"\"\n      }\n    },\n    {\n      \"column\": \"GRE Score\",\n      \"properties\": {\n        \"dtype\": \"number\",\n        \"std\": 11,\n        \"min\": 290,\n        \"max\": 340,\n        \"num_unique_values\": 49,\n        \"samples\": [\n          307,\n          335,\n          297\n        ],\n        \"semantic_type\": \"\",\n        \"description\": \"\"\n      }\n    },\n    {\n      \"column\": \"TOEFL Score\",\n      \"properties\": {\n        \"dtype\": \"number\",\n        \"std\": 6,\n        \"min\": 92,\n        \"max\": 120,\n        \"num_unique_values\": 29,\n        \"samples\": [\n          94,\n          119,\n          112\n        ],\n        \"semantic_type\": \"\",\n        \"description\": \"\"\n      }\n    },\n    {\n      \"column\": \"University Rating\",\n      \"properties\": {\n        \"dtype\": \"number\",\n        \"std\": 1,\n        \"min\": 1,\n        \"max\": 5,\n        \"num_unique_values\": 5,\n        \"samples\": [\n          3,\n          1,\n          2\n        ],\n        \"semantic_type\": \"\",\n        \"description\": \"\"\n      }\n    },\n    {\n      \"column\": \"SOP\",\n      \"properties\": {\n        \"dtype\": \"number\",\n        \"std\": 0.9910036207566072,\n        \"min\": 1.0,\n        \"max\": 5.0,\n        \"num_unique_values\": 9,\n        \"samples\": [\n          1.0,\n          4.0,\n          5.0\n        ],\n        \"semantic_type\": \"\",\n        \"description\": \"\"\n      }\n    },\n    {\n      \"column\": \"LOR \",\n      \"properties\": {\n        \"dtype\": \"number\",\n        \"std\": 0.9254495738978193,\n        \"min\": 1.0,\n        \"max\": 5.0,\n        \"num_unique_values\": 9,\n        \"samples\": [\n          5.0,\n          3.5,\n          1.5\n        ],\n        \"semantic_type\": \"\",\n        \"description\": \"\"\n      }\n    },\n    {\n      \"column\": \"CGPA\",\n      \"properties\": {\n        \"dtype\": \"number\",\n        \"std\": 0.6048128003332054,\n        \"min\": 6.8,\n        \"max\": 9.92,\n        \"num_unique_values\": 184,\n        \"samples\": [\n          9.6,\n          8.9,\n          8.24\n        ],\n        \"semantic_type\": \"\",\n        \"description\": \"\"\n      }\n    },\n    {\n      \"column\": \"Research\",\n      \"properties\": {\n        \"dtype\": \"number\",\n        \"std\": 0,\n        \"min\": 0,\n        \"max\": 1,\n        \"num_unique_values\": 2,\n        \"samples\": [\n          0,\n          1\n        ],\n        \"semantic_type\": \"\",\n        \"description\": \"\"\n      }\n    },\n    {\n      \"column\": \"Chance of Admit \",\n      \"properties\": {\n        \"dtype\": \"number\",\n        \"std\": 0.14114040395030228,\n        \"min\": 0.34,\n        \"max\": 0.97,\n        \"num_unique_values\": 61,\n        \"samples\": [\n          0.92,\n          0.9\n        ],\n        \"semantic_type\": \"\",\n        \"description\": \"\"\n      }\n    }\n  ]\n}"
            }
          },
          "metadata": {},
          "execution_count": 239
        }
      ]
    },
    {
      "cell_type": "markdown",
      "source": [
        "# Linear Regression"
      ],
      "metadata": {
        "id": "zfldr8SVEVM0"
      }
    },
    {
      "cell_type": "code",
      "source": [
        "from sklearn.model_selection import train_test_split\n",
        "import matplotlib.pyplot as plt\n",
        "import tensorflow as tf\n",
        "from sklearn.preprocessing import StandardScaler\n",
        "\n",
        "# Separate features and target\n",
        "X = df.drop(columns=['Chance of Admit '])\n",
        "y = df['Chance of Admit ']\n",
        "\n",
        "# Perform scaling using StandardScaler\n",
        "scaler = StandardScaler()\n",
        "X_scaled = scaler.fit_transform(X)\n",
        "\n",
        "# Split the data into training and testing sets\n",
        "X_train, X_test, y_train, y_test = train_test_split(X_scaled, y.values.reshape(-1, 1), test_size=0.2, random_state=42)\n",
        "\n",
        "# Convert data into TensorFlow tensors\n",
        "X_train_tensor = tf.constant(X_train, dtype=tf.float32)\n",
        "X_test_tensor = tf.constant(X_test, dtype=tf.float32)\n",
        "y_train_tensor = tf.constant(y_train, dtype=tf.float32)\n",
        "y_test_tensor = tf.constant(y_test, dtype=tf.float32)\n",
        "\n",
        "# Initialize weights and bias as TensorFlow variables\n",
        "num_features = X_train.shape[1]\n",
        "W = tf.Variable(tf.random.normal(shape=(num_features, 1)))\n",
        "b = tf.Variable(tf.zeros(shape=(1,)))\n",
        "\n",
        "# Define linear regression model\n",
        "def linear_regression(X):\n",
        "    return tf.matmul(X, W) + b\n",
        "\n",
        "# Define the loss function\n",
        "def mean_squared_error(y_true, y_pred):\n",
        "    return tf.reduce_mean(tf.square(y_true - y_pred))\n",
        "\n",
        "# SGD optimizer\n",
        "optimizer = tf.optimizers.SGD(learning_rate=0.01)\n",
        "\n",
        "# Training loop\n",
        "epochs = 1000\n",
        "for epoch in range(epochs):\n",
        "    with tf.GradientTape() as tape:\n",
        "        y_pred = linear_regression(X_train_tensor)\n",
        "        loss = mean_squared_error(y_train_tensor, y_pred)\n",
        "\n",
        "    gradients = tape.gradient(loss, [W, b])\n",
        "    optimizer.apply_gradients(zip(gradients, [W, b]))\n",
        "\n",
        "    if (epoch + 1) % 100 == 0:\n",
        "        print(f'Epoch {epoch+1}, Loss: {loss.numpy()}')\n",
        "\n",
        "# Evaluation\n",
        "y_pred_test = linear_regression(X_test_tensor)\n",
        "mse = mean_squared_error(y_test_tensor, y_pred_test).numpy()\n",
        "print(f'Mean Squared Error (MSE): {mse}')\n",
        "\n",
        "# Plotting actual vs predicted\n",
        "plt.scatter(y_test, y_pred_test, alpha=0.5)\n",
        "plt.xlabel('Actual Chance of Admit')\n",
        "plt.ylabel('Predicted Chance of Admit')\n",
        "plt.title('Actual vs Predicted')\n",
        "plt.show()\n"
      ],
      "metadata": {
        "colab": {
          "base_uri": "https://localhost:8080/",
          "height": 659
        },
        "id": "_b7-hFxtMfwv",
        "outputId": "15cc4517-e13e-46c1-df61-97d050ed6d52"
      },
      "execution_count": 291,
      "outputs": [
        {
          "output_type": "stream",
          "name": "stdout",
          "text": [
            "Epoch 100, Loss: 0.5168789625167847\n",
            "Epoch 200, Loss: 0.16700220108032227\n",
            "Epoch 300, Loss: 0.0667397528886795\n",
            "Epoch 400, Loss: 0.031196724623441696\n",
            "Epoch 500, Loss: 0.016718585044145584\n",
            "Epoch 600, Loss: 0.010168764740228653\n",
            "Epoch 700, Loss: 0.006971181835979223\n",
            "Epoch 800, Loss: 0.005326384212821722\n",
            "Epoch 900, Loss: 0.00445073377341032\n",
            "Epoch 1000, Loss: 0.003974161576479673\n",
            "Mean Squared Error (MSE): 0.004891734570264816\n"
          ]
        },
        {
          "output_type": "display_data",
          "data": {
            "text/plain": [
              "<Figure size 640x480 with 1 Axes>"
            ],
            "image/png": "[encoded data removed]"
          },
          "metadata": {}
        }
      ]
    },
    {
      "cell_type": "markdown",
      "source": [
        "# Logistic Regression"
      ],
      "metadata": {
        "id": "y1jz5y467Xbo"
      }
    },
    {
      "cell_type": "code",
      "source": [
        "import pandas as pd\n",
        "import numpy as np\n",
        "import tensorflow as tf\n",
        "from sklearn.preprocessing import StandardScaler\n",
        "from sklearn.model_selection import train_test_split\n",
        "from sklearn.preprocessing import LabelEncoder\n",
        "import matplotlib.pyplot as plt\n",
        "# Load data into a Pandas DataFrame\n",
        "df = pd.read_csv('/content/Admission_Predict_A3.csv')\n"
      ],
      "metadata": {
        "id": "aLwsnBF71NRT"
      },
      "execution_count": 198,
      "outputs": []
    },
    {
      "cell_type": "code",
      "source": [
        "# Binning process\n",
        "bins = [0, 0.33, 0.67, 1.0]\n",
        "labels = ['low', 'medium', 'high']\n",
        "df['Chance of Admit '] = pd.cut(df['Chance of Admit '], bins=bins, labels=labels)\n",
        "\n",
        "# Separate features and target\n",
        "X = df.drop(columns=['Chance of Admit '])\n",
        "y = df['Chance of Admit ']"
      ],
      "metadata": {
        "id": "vFNLM0JF1QnK"
      },
      "execution_count": 199,
      "outputs": []
    },
    {
      "cell_type": "code",
      "source": [
        "# Encode target variable\n",
        "label_encoder = LabelEncoder()\n",
        "y_encoded = label_encoder.fit_transform(y)\n",
        "\n",
        "# Perform scaling using StandardScaler\n",
        "scaler = StandardScaler()\n",
        "X_scaled = scaler.fit_transform(X)\n",
        "\n",
        "# Split data into train and test sets\n",
        "X_train, X_test, y_train, y_test = train_test_split(X_scaled, y_encoded, test_size=0.2, random_state=42)"
      ],
      "metadata": {
        "id": "saQ1ZvmQ1QxU"
      },
      "execution_count": 200,
      "outputs": []
    },
    {
      "cell_type": "code",
      "source": [
        "# Convert data into TensorFlow tensors\n",
        "X_train_tensor = tf.constant(X_train, dtype=tf.float32)\n",
        "y_train_tensor = tf.constant(y_train, dtype=tf.int32)\n",
        "X_test_tensor = tf.constant(X_test, dtype=tf.float32)\n",
        "y_test_tensor = tf.constant(y_test, dtype=tf.int32)\n",
        "\n",
        "# Define logistic regression model\n",
        "num_classes = len(labels)\n",
        "num_features = X.shape[1]\n",
        "W = tf.Variable(tf.random.normal(shape=(num_features, num_classes)))\n",
        "b = tf.Variable(tf.zeros(shape=(num_classes,)))\n",
        "\n",
        "def logistic_regression(X):\n",
        "    return tf.nn.softmax(tf.matmul(X, W) + b)\n",
        "\n",
        "# Define the loss function\n",
        "def cross_entropy_loss(y_true, y_pred):\n",
        "    return tf.reduce_mean(tf.nn.sparse_softmax_cross_entropy_with_logits(labels=y_true, logits=y_pred))\n",
        "\n",
        "# SGD optimizer\n",
        "optimizer = tf.optimizers.SGD(learning_rate=0.01)\n"
      ],
      "metadata": {
        "id": "mXsEh0C31Q4e"
      },
      "execution_count": 201,
      "outputs": []
    },
    {
      "cell_type": "markdown",
      "source": [
        "Tried different learning rates for stochastic gradient descent 0.6 and\n"
      ],
      "metadata": {
        "id": "xJCNCnAy2lAJ"
      }
    },
    {
      "cell_type": "code",
      "source": [
        "\n",
        "optimizer = tf.optimizers.SGD(learning_rate=0.6)\n",
        "\n",
        "# Training loop\n",
        "epochs = 50\n",
        "losses = []\n",
        "for epoch in range(epochs):\n",
        "    with tf.GradientTape() as tape:\n",
        "        y_pred = logistic_regression(X_train_tensor)\n",
        "        loss = cross_entropy_loss(y_train_tensor, y_pred)\n",
        "\n",
        "    gradients = tape.gradient(loss, [W, b])\n",
        "    optimizer.apply_gradients(zip(gradients, [W, b]))\n",
        "\n",
        "    losses.append(loss)\n",
        "    print(f'Epoch {epoch+1}, Loss: {loss.numpy()}')\n"
      ],
      "metadata": {
        "colab": {
          "base_uri": "https://localhost:8080/"
        },
        "id": "gvUGMj0Y1Q9D",
        "outputId": "ed9a4797-38a0-4a1a-a665-c5a99c78e391"
      },
      "execution_count": 202,
      "outputs": [
        {
          "output_type": "stream",
          "name": "stdout",
          "text": [
            "Epoch 1, Loss: 1.1753062009811401\n",
            "Epoch 2, Loss: 1.1484081745147705\n",
            "Epoch 3, Loss: 1.1135711669921875\n",
            "Epoch 4, Loss: 1.0691399574279785\n",
            "Epoch 5, Loss: 1.0185787677764893\n",
            "Epoch 6, Loss: 0.9730603098869324\n",
            "Epoch 7, Loss: 0.9400354027748108\n",
            "Epoch 8, Loss: 0.9170277118682861\n",
            "Epoch 9, Loss: 0.9001310467720032\n",
            "Epoch 10, Loss: 0.887022078037262\n",
            "Epoch 11, Loss: 0.8764164447784424\n",
            "Epoch 12, Loss: 0.8675611615180969\n",
            "Epoch 13, Loss: 0.8599851727485657\n",
            "Epoch 14, Loss: 0.8533774018287659\n",
            "Epoch 15, Loss: 0.8475239276885986\n",
            "Epoch 16, Loss: 0.8422734141349792\n",
            "Epoch 17, Loss: 0.8375162482261658\n",
            "Epoch 18, Loss: 0.8331720232963562\n",
            "Epoch 19, Loss: 0.8291804790496826\n",
            "Epoch 20, Loss: 0.8254957795143127\n",
            "Epoch 21, Loss: 0.82208251953125\n",
            "Epoch 22, Loss: 0.818911612033844\n",
            "Epoch 23, Loss: 0.8159591555595398\n",
            "Epoch 24, Loss: 0.8132044076919556\n",
            "Epoch 25, Loss: 0.8106292486190796\n",
            "Epoch 26, Loss: 0.8082169890403748\n",
            "Epoch 27, Loss: 0.8059532642364502\n",
            "Epoch 28, Loss: 0.8038244843482971\n",
            "Epoch 29, Loss: 0.8018186688423157\n",
            "Epoch 30, Loss: 0.7999253869056702\n",
            "Epoch 31, Loss: 0.7981347441673279\n",
            "Epoch 32, Loss: 0.796438455581665\n",
            "Epoch 33, Loss: 0.7948287725448608\n",
            "Epoch 34, Loss: 0.7932990193367004\n",
            "Epoch 35, Loss: 0.7918429374694824\n",
            "Epoch 36, Loss: 0.7904551029205322\n",
            "Epoch 37, Loss: 0.7891303896903992\n",
            "Epoch 38, Loss: 0.787864625453949\n",
            "Epoch 39, Loss: 0.7866532206535339\n",
            "Epoch 40, Loss: 0.7854926586151123\n",
            "Epoch 41, Loss: 0.7843793630599976\n",
            "Epoch 42, Loss: 0.7833104133605957\n",
            "Epoch 43, Loss: 0.7822824120521545\n",
            "Epoch 44, Loss: 0.7812930345535278\n",
            "Epoch 45, Loss: 0.7803398370742798\n",
            "Epoch 46, Loss: 0.7794201374053955\n",
            "Epoch 47, Loss: 0.7785322666168213\n",
            "Epoch 48, Loss: 0.7776739597320557\n",
            "Epoch 49, Loss: 0.7768435478210449\n",
            "Epoch 50, Loss: 0.7760393023490906\n"
          ]
        }
      ]
    },
    {
      "cell_type": "code",
      "source": [
        "# Evaluation\n",
        "y_pred_test = logistic_regression(X_test_tensor)\n",
        "y_pred_labels = tf.argmax(y_pred_test, axis=1)\n",
        "accuracy = np.mean(y_pred_labels.numpy() == y_test)\n",
        "print(f'Accuracy: {accuracy}')"
      ],
      "metadata": {
        "colab": {
          "base_uri": "https://localhost:8080/"
        },
        "id": "lq3LX-rd1RA-",
        "outputId": "239923b5-fdc8-4024-e4d6-0f822ab3bed0"
      },
      "execution_count": 203,
      "outputs": [
        {
          "output_type": "stream",
          "name": "stdout",
          "text": [
            "Accuracy: 0.77\n"
          ]
        }
      ]
    },
    {
      "cell_type": "code",
      "source": [
        "# Plot loss over epochs\n",
        "plt.plot(range(epochs), losses)\n",
        "plt.xlabel('Epoch')\n",
        "plt.ylabel('Loss')\n",
        "plt.title('Training Loss')\n",
        "plt.show()"
      ],
      "metadata": {
        "colab": {
          "base_uri": "https://localhost:8080/",
          "height": 472
        },
        "id": "utiX-v3o1RFu",
        "outputId": "5d444ba4-f788-4e77-e5ed-94f217c15e84"
      },
      "execution_count": 204,
      "outputs": [
        {
          "output_type": "display_data",
          "data": {
            "text/plain": [
              "<Figure size 640x480 with 1 Axes>"
            ],
            "image/png": "[encoded data removed]"
          },
          "metadata": {}
        }
      ]
    },
    {
      "cell_type": "markdown",
      "source": [
        "# Additional Tasks"
      ],
      "metadata": {
        "id": "-dtamjBhotsq"
      }
    },
    {
      "cell_type": "code",
      "source": [
        "df = pd.read_csv('/content/Admission_Predict_A3.csv')"
      ],
      "metadata": {
        "id": "7wvz0ThjHut1"
      },
      "execution_count": 205,
      "outputs": []
    },
    {
      "cell_type": "code",
      "source": [
        "import seaborn as sns\n",
        "chance = df.columns[8]\n",
        "# Assuming df is your DataFrame containing all variables including the target\n",
        "correlation_matrix = df.corr()\n",
        "\n",
        "# Extract correlations with the target variable\n",
        "correlation_with_target = correlation_matrix[chance]\n",
        "\n",
        "# Remove the target variable itself from the correlation list\n",
        "correlation_with_target = correlation_with_target.drop(chance)\n",
        "\n",
        "# Sort correlations in descending order\n",
        "correlation_with_target = correlation_with_target.sort_values(ascending=False)\n",
        "\n",
        "# Plotting\n",
        "plt.figure(figsize=(10, 6))\n",
        "sns.barplot(x=correlation_with_target.values, y=correlation_with_target.index, palette=\"viridis\")\n",
        "plt.xlabel('Correlation with Target Variable')\n",
        "plt.ylabel('Features')\n",
        "plt.title('Correlation of Features with Target Variable')\n",
        "plt.show()"
      ],
      "metadata": {
        "id": "4ahFOaLIEXin",
        "colab": {
          "base_uri": "https://localhost:8080/",
          "height": 669
        },
        "outputId": "2f06ec13-ad89-4c6f-ed98-6959c873bdfc"
      },
      "execution_count": 206,
      "outputs": [
        {
          "output_type": "stream",
          "name": "stderr",
          "text": [
            "<ipython-input-206-72d3f1633b69>:17: FutureWarning: \n",
            "\n",
            "Passing `palette` without assigning `hue` is deprecated and will be removed in v0.14.0. Assign the `y` variable to `hue` and set `legend=False` for the same effect.\n",
            "\n",
            "  sns.barplot(x=correlation_with_target.values, y=correlation_with_target.index, palette=\"viridis\")\n"
          ]
        },
        {
          "output_type": "display_data",
          "data": {
            "text/plain": [
              "<Figure size 1000x600 with 1 Axes>"
            ],
            "image/png": "[encoded data removed]"
          },
          "metadata": {}
        }
      ]
    },
    {
      "cell_type": "markdown",
      "source": [
        "Comparative Analysis"
      ],
      "metadata": {
        "id": "GqLSRg6m9Qyh"
      }
    },
    {
      "cell_type": "code",
      "source": [
        "df = pd.read_csv('/content/Admission_Predict_A3.csv')"
      ],
      "metadata": {
        "id": "N7syz4ht-blZ"
      },
      "execution_count": 207,
      "outputs": []
    },
    {
      "cell_type": "code",
      "source": [
        "X = df.drop([\"Serial No.\", \"Chance of Admit \"], axis=1)\n",
        "y = df[\"Chance of Admit \"]"
      ],
      "metadata": {
        "id": "EYMMAghlCGud"
      },
      "execution_count": 208,
      "outputs": []
    },
    {
      "cell_type": "code",
      "source": [
        "scaler = StandardScaler()\n",
        "X_scaled = scaler.fit_transform(X)"
      ],
      "metadata": {
        "id": "0Q8iOybYCJrU"
      },
      "execution_count": 209,
      "outputs": []
    },
    {
      "cell_type": "code",
      "source": [
        "X_tensor = tf.constant(X_scaled, dtype=tf.float32)\n",
        "y_tensor = tf.constant(y.values, dtype=tf.float32)"
      ],
      "metadata": {
        "id": "6FDCdAglCL8Y"
      },
      "execution_count": 210,
      "outputs": []
    },
    {
      "cell_type": "code",
      "source": [
        "X_numpy = X_tensor.numpy()\n",
        "y_numpy = y_tensor.numpy()"
      ],
      "metadata": {
        "id": "fqdCSKEtCPAr"
      },
      "execution_count": 211,
      "outputs": []
    },
    {
      "cell_type": "code",
      "source": [
        "X_train, X_test, y_train, y_test = train_test_split(X_numpy, y_numpy, test_size=0.2, random_state=42)"
      ],
      "metadata": {
        "id": "sopkbqIACT5X"
      },
      "execution_count": 212,
      "outputs": []
    },
    {
      "cell_type": "code",
      "source": [
        "\n",
        "from sklearn.linear_model import LinearRegression\n",
        "from sklearn.metrics import mean_squared_error\n",
        "\n",
        "def train_linear_regression(X_train, y_train, X_test, y_test, learning_rate):\n",
        "    model = LinearRegression()\n",
        "    model.fit(X_train, y_train)\n",
        "    y_pred = model.predict(X_test)\n",
        "    mse = mean_squared_error(y_test, y_pred)\n",
        "    return mse\n",
        "\n",
        "\n",
        "learning_rates = [0.001, 0.01, 0.1, 0.5, 1.0]\n",
        "\n",
        "mse_results = []\n",
        "for lr in learning_rates:\n",
        "    mse = train_linear_regression(X_train, y_train, X_test, y_test, learning_rate=lr)\n",
        "    mse_results.append(mse)\n"
      ],
      "metadata": {
        "id": "0BIfVootDT0y"
      },
      "execution_count": 213,
      "outputs": []
    },
    {
      "cell_type": "code",
      "source": [
        "from sklearn.model_selection import KFold\n",
        "from sklearn.metrics import mean_squared_error, accuracy_score"
      ],
      "metadata": {
        "id": "mkWWcznsCW8Z"
      },
      "execution_count": 214,
      "outputs": []
    },
    {
      "cell_type": "code",
      "source": [
        "kf_linear = KFold(n_splits=5, shuffle=True, random_state=42)\n",
        "linear_reg_mse_cv = []"
      ],
      "metadata": {
        "id": "hN8ssJFMCXF4"
      },
      "execution_count": 215,
      "outputs": []
    },
    {
      "cell_type": "code",
      "source": [
        "for train_index, test_index in kf_linear.split(X_numpy):\n",
        "    X_train_cv, X_test_cv = X_numpy[train_index], X_numpy[test_index]\n",
        "    y_train_cv, y_test_cv = y_numpy[train_index], y_numpy[test_index]\n",
        "\n",
        "    mse_cv = train_linear_regression(X_train_cv, y_train_cv, X_test_cv, y_test_cv, learning_rate=0.01)\n",
        "    linear_reg_mse_cv.append(mse_cv)"
      ],
      "metadata": {
        "id": "UFkXkTxPCXKz"
      },
      "execution_count": 216,
      "outputs": []
    },
    {
      "cell_type": "code",
      "source": [
        "kf_logistic = KFold(n_splits=5, shuffle=True, random_state=42)\n",
        "logistic_reg_accuracy_cv = []"
      ],
      "metadata": {
        "id": "wploz47bCXQw"
      },
      "execution_count": 217,
      "outputs": []
    },
    {
      "cell_type": "code",
      "source": [
        "# Function to binarize the target variable\n",
        "def binarize_target(y, threshold):\n",
        "    return np.where(y > threshold, 1.0, 0.0)"
      ],
      "metadata": {
        "id": "Yf0Rtc9fCXWp"
      },
      "execution_count": 218,
      "outputs": []
    },
    {
      "cell_type": "code",
      "source": [
        "def train_logistic_regression(X_train, y_train, X_test, y_test, learning_rate, epochs, threshold):\n",
        "    weights = tf.Variable(tf.random.normal(shape=(X_train.shape[1], 1)))\n",
        "    bias = tf.Variable(tf.zeros(shape=(1,)))\n",
        "\n",
        "    optimizer = tf.optimizers.SGD(learning_rate=learning_rate)\n",
        "\n",
        "    for epoch in range(epochs):\n",
        "        with tf.GradientTape() as tape:\n",
        "            y_pred = tf.nn.sigmoid(tf.matmul(X_train, weights) + bias)\n",
        "            loss = tf.reduce_mean(-y_train * tf.math.log(y_pred) - (1 - y_train) * tf.math.log(1 - y_pred))\n",
        "\n",
        "        gradients = tape.gradient(loss, [weights, bias])\n",
        "        optimizer.apply_gradients(zip(gradients, [weights, bias]))\n",
        "\n",
        "    # Make predictions on the test set\n",
        "    y_pred_proba = tf.nn.sigmoid(tf.matmul(X_test, weights) + bias)\n",
        "    y_pred_binary = tf.where(y_pred_proba > threshold, 1.0, 0.0)\n",
        "\n",
        "    return accuracy_score(y_test, y_pred_binary)"
      ],
      "metadata": {
        "id": "N328k9FiCXdr"
      },
      "execution_count": 219,
      "outputs": []
    },
    {
      "cell_type": "code",
      "source": [
        "# Perform logistic regression with varying hyperparameters\n",
        "learning_rates_logistic = [0.001, 0.01, 0.1]\n",
        "epochs_logistic = 50\n",
        "threshold_values = [0.3, 0.5, 0.7]"
      ],
      "metadata": {
        "id": "WsO0Gr3eCXle"
      },
      "execution_count": 220,
      "outputs": []
    },
    {
      "cell_type": "code",
      "source": [
        "# Store results for comparison\n",
        "results = []\n",
        "\n",
        "# k-fold cross-validation for logistic regression\n",
        "kf_logistic_comparison = KFold(n_splits=5, shuffle=True, random_state=42)\n"
      ],
      "metadata": {
        "id": "ZMmGH9QbDnn0"
      },
      "execution_count": 221,
      "outputs": []
    },
    {
      "cell_type": "code",
      "source": [
        "for lr in learning_rates_logistic:\n",
        "    for threshold_value in threshold_values:\n",
        "        logistic_reg_accuracy_cv = []\n",
        "\n",
        "        for train_index, test_index in kf_logistic_comparison.split(X_numpy):\n",
        "            X_train_cv, X_test_cv = X_numpy[train_index], X_numpy[test_index]\n",
        "            y_train_cv, y_test_cv = y_numpy[train_index], y_numpy[test_index]\n",
        "\n",
        "            # Binarize the target variable\n",
        "            y_train_cv_binarized = binarize_target(y_train_cv, threshold_value)\n",
        "            y_test_cv_binarized = binarize_target(y_test_cv, threshold_value)\n",
        "\n",
        "            accuracy_cv = train_logistic_regression(\n",
        "                X_train_cv, y_train_cv_binarized, X_test_cv, y_test_cv_binarized,\n",
        "                learning_rate=lr, epochs=epochs_logistic, threshold=0.5\n",
        "            )\n",
        "\n",
        "            logistic_reg_accuracy_cv.append(accuracy_cv)\n",
        "\n",
        "        # Calculate mean accuracy for the current set of hyperparameters\n",
        "        mean_accuracy = np.mean(logistic_reg_accuracy_cv)\n",
        "        results.append((lr, epochs_logistic, threshold_value, mean_accuracy))"
      ],
      "metadata": {
        "id": "r5oFjaa0Dnth"
      },
      "execution_count": 222,
      "outputs": []
    },
    {
      "cell_type": "code",
      "source": [
        "# Display the results\n",
        "print(\"\\nComparative Analysis:\")\n",
        "print(\"{:<15} {:<15} {:<15} {:<15}\".format('Learning Rate', 'Epochs', 'Threshold', 'Mean Accuracy'))\n",
        "print(\"-\" * 60)\n",
        "\n",
        "for result in results:\n",
        "    lr, epochs_logistic, threshold_value, mean_accuracy = result\n",
        "    print(\"{:<15} {:<15} {:<15} {:<15}\".format(lr, epochs_logistic, threshold_value, mean_accuracy))"
      ],
      "metadata": {
        "colab": {
          "base_uri": "https://localhost:8080/"
        },
        "id": "3soLruSGDtTE",
        "outputId": "f9d908eb-3583-45e5-9a12-974b714306aa"
      },
      "execution_count": 223,
      "outputs": [
        {
          "output_type": "stream",
          "name": "stdout",
          "text": [
            "\n",
            "Comparative Analysis:\n",
            "Learning Rate   Epochs          Threshold       Mean Accuracy  \n",
            "------------------------------------------------------------\n",
            "0.001           50              0.3             0.526          \n",
            "0.001           50              0.5             0.49000000000000005\n",
            "0.001           50              0.7             0.48200000000000004\n",
            "0.01            50              0.3             0.5199999999999999\n",
            "0.01            50              0.5             0.5559999999999999\n",
            "0.01            50              0.7             0.458          \n",
            "0.1             50              0.3             0.9460000000000001\n",
            "0.1             50              0.5             0.808          \n",
            "0.1             50              0.7             0.536          \n"
          ]
        }
      ]
    }
  ]
}