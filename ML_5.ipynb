{
  "nbformat": 4,
  "nbformat_minor": 0,
  "metadata": {
    "colab": {
      "provenance": [],
      "authorship_tag": "ABX9TyNhc+pMrN4NCYd9MeAnRBu9",
      "include_colab_link": true
    },
    "kernelspec": {
      "name": "python3",
      "display_name": "Python 3"
    },
    "language_info": {
      "name": "python"
    }
  },
  "cells": [
    {
      "cell_type": "markdown",
      "metadata": {
        "id": "view-in-github",
        "colab_type": "text"
      },
      "source": [
        "<a href=\"https://colab.research.google.com/github/anushkasingh2002/ML-Assignments/blob/main/ML_5.ipynb\" target=\"_parent\"><img src=\"https://colab.research.google.com/assets/colab-badge.svg\" alt=\"Open In Colab\"/></a>"
      ]
    },
    {
      "cell_type": "code",
      "execution_count": null,
      "metadata": {
        "id": "6ka2_Kgk7kOY"
      },
      "outputs": [],
      "source": [
        "import numpy as np\n",
        "import torch\n",
        "import torch.nn as nn\n",
        "import torch.optim as optim\n",
        "import pandas as pd\n",
        "import numpy as np\n",
        "from sklearn.preprocessing import OneHotEncoder"
      ]
    },
    {
      "cell_type": "code",
      "source": [
        "df = pd.read_csv('/content/abalone.data.csv')\n"
      ],
      "metadata": {
        "id": "3AghXV3rB0tw"
      },
      "execution_count": null,
      "outputs": []
    },
    {
      "cell_type": "code",
      "source": [
        "# Convert 'Sex' to numerical values\n",
        "df['Sex'] = df['Sex'].map({'M': 0, 'F': 1, 'I': 2})\n",
        "\n",
        "# Perform one-hot encoding for 'Sex' column\n",
        "sex_one_hot = pd.get_dummies(df['Sex'], prefix='Sex')\n",
        "df = pd.concat([df, sex_one_hot], axis=1)\n",
        "df = df.drop(['Sex'], axis=1)  # Drop the original 'Sex' column\n",
        "\n",
        "# Split the data into features (X) and target (y)\n",
        "X = df.drop(['Rings'], axis=1).values\n",
        "y = df['Rings'].values\n"
      ],
      "metadata": {
        "id": "ipwvoABbB8lh"
      },
      "execution_count": null,
      "outputs": []
    },
    {
      "cell_type": "code",
      "source": [
        "# Split the data into training and testing sets\n",
        "X_train, X_test, y_train, y_test = train_test_split(X, y, test_size=0.2, random_state=42)"
      ],
      "metadata": {
        "id": "3Jxb-hzyCDbl"
      },
      "execution_count": null,
      "outputs": []
    },
    {
      "cell_type": "code",
      "source": [
        "X_train = X_train.astype(np.float32)\n",
        "X_test = X_test.astype(np.float32)\n",
        "\n",
        "y_train = y_train.astype(np.float32)\n",
        "y_test = y_test.astype(np.float32)\n"
      ],
      "metadata": {
        "id": "fcfnPF4wC6As"
      },
      "execution_count": null,
      "outputs": []
    },
    {
      "cell_type": "code",
      "source": [
        "\n",
        "# Convert numpy arrays to PyTorch tensors\n",
        "X_train_tensor = torch.tensor(X_train, dtype=torch.float32)\n",
        "X_test_tensor = torch.tensor(X_test, dtype=torch.float32)\n",
        "y_train_tensor = torch.tensor(y_train, dtype=torch.float32)\n",
        "y_test_tensor = torch.tensor(y_test, dtype=torch.float32)\n"
      ],
      "metadata": {
        "id": "U7DEv6CqJM7S"
      },
      "execution_count": null,
      "outputs": []
    },
    {
      "cell_type": "code",
      "source": [
        "import torch\n",
        "from torch import nn\n",
        "from torch.nn import functional as F\n",
        "\n",
        "class NeuralNetwork(nn.Module):\n",
        "    def __init__(self):\n",
        "        super(NeuralNetwork, self).__init__()\n",
        "        self.input_layer = nn.Linear(10, 64)  # Input layer with 10 nodes\n",
        "        self.hidden_layer1 = nn.Linear(64, 32)  # First hidden layer with 64 nodes\n",
        "        self.hidden_layer2 = nn.Linear(32, 1)  # Second hidden layer with 32 nodes\n",
        "\n",
        "    def forward(self, x):\n",
        "        x = F.relu(self.input_layer(x))  # ReLU activation for input layer\n",
        "        x = F.relu(self.hidden_layer1(x))  # ReLU activation for first hidden layer\n",
        "        x = self.hidden_layer2(x)  # Output layer without activation function for regression\n",
        "\n",
        "        return x\n",
        "\n",
        "\n",
        "\n",
        "model = NeuralNetwork()\n",
        "print(model)\n"
      ],
      "metadata": {
        "colab": {
          "base_uri": "https://localhost:8080/"
        },
        "id": "lZElZUc2RWgg",
        "outputId": "740c0a19-46fb-48d6-dad7-42931aa98a5e"
      },
      "execution_count": null,
      "outputs": [
        {
          "output_type": "stream",
          "name": "stdout",
          "text": [
            "NeuralNetwork(\n",
            "  (input_layer): Linear(in_features=10, out_features=64, bias=True)\n",
            "  (hidden_layer1): Linear(in_features=64, out_features=32, bias=True)\n",
            "  (hidden_layer2): Linear(in_features=32, out_features=1, bias=True)\n",
            ")\n"
          ]
        }
      ]
    },
    {
      "cell_type": "code",
      "source": [
        "\n",
        "\n",
        "criterion = nn.MSELoss()\n",
        "\n",
        "optimizer = optim.SGD(model.parameters(), lr=0.1)\n",
        "\n",
        "def evaluate(model, test_data, test_labels):\n",
        "    model.eval()  # Set the model to evaluation mode\n",
        "    with torch.no_grad():  # Disable gradient computation\n",
        "        predictions = model(test_data)\n",
        "        mse_loss = criterion(predictions, test_labels.view(-1, 1))  # Reshape target tensor\n",
        "    return mse_loss.item()  # Return the MSE loss value\n",
        "\n"
      ],
      "metadata": {
        "id": "5l7c_4ecS52j"
      },
      "execution_count": null,
      "outputs": []
    },
    {
      "cell_type": "code",
      "source": [
        "# Train the model for a specified number of epochs\n",
        "num_epochs = 100\n",
        "for epoch in range(num_epochs):\n",
        "    model.train()  # Set the model to training mode\n",
        "    optimizer.zero_grad()  # Zero the gradients\n",
        "\n",
        "    # Forward pass\n",
        "    outputs = model(X_train_tensor)\n",
        "    loss = criterion(outputs, y_train_tensor)\n",
        "\n",
        "    # Backward pass and optimization\n",
        "    loss.backward()\n",
        "    optimizer.step()\n",
        "\n",
        "    # Print the loss every few epochs\n",
        "    if (epoch+1) % 10 == 0:\n",
        "        print(f'Epoch [{epoch+1}/{num_epochs}], Loss: {loss.item():.4f}')\n",
        "\n",
        "# Evaluate the model on the testing set\n",
        "test_loss = evaluate(model, X_test_tensor, y_test_tensor)\n",
        "print(f'Testing MSE Loss: {test_loss:.4f}')"
      ],
      "metadata": {
        "colab": {
          "base_uri": "https://localhost:8080/"
        },
        "id": "LkuxDj3TTi9L",
        "outputId": "887dd5ea-580c-4bdb-aeb1-1f4bf6b37e61"
      },
      "execution_count": null,
      "outputs": [
        {
          "output_type": "stream",
          "name": "stdout",
          "text": [
            "Epoch [10/100], Loss: 10.2841\n",
            "Epoch [20/100], Loss: 10.2841\n",
            "Epoch [30/100], Loss: 10.2841\n",
            "Epoch [40/100], Loss: 10.2840\n",
            "Epoch [50/100], Loss: 10.2840\n",
            "Epoch [60/100], Loss: 10.2840\n",
            "Epoch [70/100], Loss: 10.2840\n",
            "Epoch [80/100], Loss: 10.2840\n",
            "Epoch [90/100], Loss: 10.2840\n",
            "Epoch [100/100], Loss: 10.2840\n",
            "Testing MSE Loss: 10.8433\n"
          ]
        }
      ]
    },
    {
      "cell_type": "code",
      "source": [],
      "metadata": {
        "id": "R3OzeT3ATzg5"
      },
      "execution_count": null,
      "outputs": []
    }
  ]
}